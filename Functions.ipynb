{
 "cells": [
  {
   "cell_type": "code",
   "execution_count": 21,
   "metadata": {},
   "outputs": [],
   "source": [
    "import json\n",
    "import requests\n",
    "import numpy as np\n",
    "import pandas as pd\n",
    "import matplotlib as plt\n",
    "import sqlite3\n",
    "conn = sqlite3.connect(':memory:')\n",
    "cur = conn.cursor()"
   ]
  },
  {
   "cell_type": "code",
   "execution_count": 22,
   "metadata": {},
   "outputs": [],
   "source": [
    "url = 'https://api.yelp.com/v3/businesses/search'\n",
    "url2 = 'https://api.yelp.com/v3/businesses/{id}/reviews'"
   ]
  },
  {
   "cell_type": "code",
   "execution_count": 23,
   "metadata": {},
   "outputs": [],
   "source": [
    "client_id = \"0RHbihxg1H8-FtXWdWRtfQ\"\n",
    "api_key = \"7Y9_AJxCRZODCh-ltNRyXKnetWfEbh9IukEMhXM1bGMeNpgl3Xpr1f5nwAIuj2wLKNilp770vvggIP1fW1uFc26-YolKbvCjf6b8GrWLee-fY3yaxwU3uUGdW0nzX3Yx\""
   ]
  },
  {
   "cell_type": "code",
   "execution_count": 24,
   "metadata": {},
   "outputs": [],
   "source": [
    "headers = {\n",
    "        'Authorization': 'Bearer {}'.format(api_key),\n",
    "    }"
   ]
  },
  {
   "cell_type": "code",
   "execution_count": 25,
   "metadata": {},
   "outputs": [],
   "source": [
    "term = 'yoga'\n",
    "location = 'Manhattan'\n",
    "radius = 10000"
   ]
  },
  {
   "cell_type": "code",
   "execution_count": 26,
   "metadata": {},
   "outputs": [],
   "source": [
    "url_params = {\n",
    "                \"term\": term.replace(' ', '+'),\n",
    "                \"location\": location.replace(' ', '+'),\n",
    "                \"radius\" : radius,\n",
    "                \"limit\": 50\n",
    "            }"
   ]
  },
  {
   "cell_type": "code",
   "execution_count": 27,
   "metadata": {},
   "outputs": [],
   "source": [
    "def yelp_call(url, url_params, api_key):\n",
    "    # your code to make the yelp call\n",
    "    response = requests.get(url, headers=headers, params=url_params)\n",
    "    data = response.json()\n",
    "    return data"
   ]
  },
  {
   "cell_type": "code",
   "execution_count": 28,
   "metadata": {},
   "outputs": [],
   "source": [
    "NYCdata = yelp_call(url, url_params, api_key)"
   ]
  },
  {
   "cell_type": "code",
   "execution_count": 29,
   "metadata": {},
   "outputs": [],
   "source": [
    "cur.execute(\"\"\"CREATE TABLE businesses (\n",
    "                                id INTEGER PIRMARY KEY, \n",
    "                                businessID TEXT,\n",
    "                                rating INTEGER,\n",
    "                                price TEXT,\n",
    "                                name TEXT,\n",
    "                                review_count TEXT,\n",
    "                                city TEXT,\n",
    "                                country TEXT\n",
    "                                )          \n",
    "            \"\"\")\n",
    "conn.commit()"
   ]
  },
  {
   "cell_type": "code",
   "execution_count": 30,
   "metadata": {},
   "outputs": [],
   "source": [
    "cur.execute(\"\"\"CREATE TABLE reviews (\n",
    "                                businessID TEXT,\n",
    "                                reveiewID TEXT,\n",
    "                                rating INTEGER,\n",
    "                                time_created TEXT,\n",
    "                                text TEXT\n",
    "                                )          \n",
    "            \"\"\")\n",
    "conn.commit()"
   ]
  },
  {
   "cell_type": "code",
   "execution_count": 13,
   "metadata": {},
   "outputs": [],
   "source": [
    "def parse_results(results):\n",
    "    biz_list = []\n",
    "    biz_list_id = []\n",
    "\n",
    "    for business in results['businesses']:\n",
    "        for item in ['businessID', 'rating', 'price', 'name', 'review_count', 'city', 'country']:\n",
    "            if item not in business:\n",
    "                business[item] = np.nan\n",
    "            else: \n",
    "                business[item]\n",
    "        biz_tuple = ( business['id'], \n",
    "                      business['rating'],\n",
    "                      business['price'],\n",
    "                      business['name'],\n",
    "                      business['review_count'],\n",
    "                      business['location']['city'],\n",
    "                      business['location']['country']\n",
    "                      )    \n",
    "        biz_list_id.append(business['id'])\n",
    "        biz_list.append(biz_tuple)\n",
    "    return biz_list"
   ]
  },
  {
   "cell_type": "code",
   "execution_count": 14,
   "metadata": {},
   "outputs": [],
   "source": [
    "def insert_values(conn, cur, parse_results):\n",
    "    for business in parse_results:\n",
    "        add_business = (\"\"\"\n",
    "    INSERT INTO businesses (businessID, rating, price, name, review_count, city, country)\n",
    "    VALUES (?, ?, ?, ?, ?, ?, ?) \"\"\")\n",
    "        cur.executemany(add_business, parse_results)\n",
    "        conn.commit()\n",
    "        "
   ]
  },
  {
   "cell_type": "code",
   "execution_count": 15,
   "metadata": {},
   "outputs": [
    {
     "name": "stdout",
     "output_type": "stream",
     "text": [
      "50\n",
      "100\n",
      "150\n",
      "200\n",
      "250\n",
      "300\n",
      "350\n",
      "400\n",
      "450\n",
      "500\n",
      "550\n",
      "600\n",
      "650\n",
      "700\n",
      "750\n",
      "800\n",
      "850\n",
      "900\n",
      "950\n",
      "1000\n"
     ]
    }
   ],
   "source": [
    "# create a variable  to keep track of which result you are in. \n",
    "current_offset = 0\n",
    "#num = NYCdata['total']\n",
    "#set up a while loop to go through and grab the result \n",
    "while current_offset < 1000:\n",
    "    #set the offset parameter to be where you currently are in the results \n",
    "    url_params['offset'] = current_offset\n",
    "    #make your API call with the new offset number\n",
    "    results = yelp_call(url, url_params, api_key)\n",
    "    \n",
    "    #after you get your results you can now use your function to parse those results\n",
    "    parsed_results = parse_results(results)\n",
    "    \n",
    "    # use your function to insert your parsed results into the db\n",
    "    insert_values(conn, cur, parsed_results)\n",
    "    #increment the counter by 50 to move on to the next results\n",
    "    current_offset += 50\n",
    "    print(current_offset)"
   ]
  },
  {
   "cell_type": "code",
   "execution_count": 16,
   "metadata": {
    "scrolled": true
   },
   "outputs": [
    {
     "data": {
      "text/plain": [
       "['kmj7FnZsKPPH3psbR9tX7Q',\n",
       " 'GgvXfu8U80tcrxythjpB4w',\n",
       " 'TlDcvf1cEK2im6e4AFYe3A',\n",
       " 'Oi85AYz9-Bx-9SBjNf__vg',\n",
       " 'npgq_up0_puDV5jieUza-A',\n",
       " 'nuhFcWqgHBwmgwlbm4rI9w',\n",
       " 'Chuu09nqfEQbREmaphoOuw',\n",
       " 'FK_6tqTQuSkadiWQ1w8ttQ',\n",
       " 'XpY0Cxo_Iw2deqeY6zsNOA',\n",
       " 'nkUwnPPYmCICZ8nYCu_twg',\n",
       " 'tGtrhu0YDGkM9ECrYVz6xg',\n",
       " 'omwcHHgdgUJn-W1b3i78og',\n",
       " 'Mc17IR6PG4iZLmZzciJEQQ',\n",
       " 'oECxp7RoWT2QArWgqpwnMA',\n",
       " 'x0bjd5AUu3ASzfjmht2IYA',\n",
       " 'c_80f3N3NbWDX8RnvuM3Xg',\n",
       " '89VGtFw9HZASM0IdnSEeFA',\n",
       " 'KjSI9xkCFTrRRbHOzCG7xg',\n",
       " 'PZhmOvUx0HrdGvxVrxTJ5g',\n",
       " 'b1ziC3xpS5Bb9PGsufBYAw',\n",
       " 'NqL3lVZgh1pz0tVaZBxkRg',\n",
       " 'vxNBDgBMP44E8DHuqj5z6A',\n",
       " 'I3-EsRgXDcLx3OrlACCx3Q',\n",
       " '6-fZD_ZzKJo29zapElbOZg',\n",
       " 'dzvqCMHOsvruyOZZ8wSnbA',\n",
       " 'HcsOCtxnSpAmUU0EC_AGMQ',\n",
       " 'qFJcpI5TOBQkX6BukZqUVw',\n",
       " 'PISWOLCiOj47QbZKm-F3tg',\n",
       " 'cwADiq0xORmv4QA2jhu-Pw',\n",
       " 'JvwVi-ZOfGKQEiezZTCgEA',\n",
       " 'fiLGdKwhkvK6pZ3E_GjHmQ',\n",
       " 'qhjcMZivcYfr7CaTHkiXXg',\n",
       " 'P5OZCF6xChJtWNrjNFBBRA',\n",
       " 'hW_eQNgyPkfwAH4Gq6I6LQ',\n",
       " 'gbRr9zRxpBtBLum9kMlxZw',\n",
       " 'Vi_qAjnkRk4kCaMpx_-Gkg',\n",
       " 'Vwy58_3fyh1LwcMCFGb5vQ',\n",
       " 'Z1WcVd9DXCzU5az3PueunQ',\n",
       " 'Ai7Go_R0snWuiCL6rbYIXQ',\n",
       " 't2nv84yKVqk0PwsNTjBcUQ',\n",
       " 'Bl8Z1G6mT8e6v5Ghr8P0Ng',\n",
       " '8SDiypaoRC4TvrRz6wWRmg',\n",
       " '0QMXNHybK3sgpB-B5RvvdA',\n",
       " 'TQpMRElRg2cTKZI50W8Veg',\n",
       " 'NT2cSYhGgiJ-RgjtuNj3fQ',\n",
       " 'LvBTSQy3Zdx01WTKIr4Xrg',\n",
       " 'tH2owtqitA7hv1A2Ay0ZhQ',\n",
       " '_Uu-HDdYlY9Eh5OqMYZezQ',\n",
       " 'ZvETO2Xbo_OKC3C2UiINyw',\n",
       " 'Zhw2qXOa9EJ5l0g6_QjDww']"
      ]
     },
     "execution_count": 16,
     "metadata": {},
     "output_type": "execute_result"
    }
   ],
   "source": [
    "ID_list = []\n",
    "\n",
    "for i in range(0, len(NYCdata['businesses'])):\n",
    "    for k,v in NYCdata['businesses'][i].items():\n",
    "        if k == 'id':\n",
    "            ID_list.append(v)\n",
    "\n",
    "ID_list"
   ]
  },
  {
   "cell_type": "code",
   "execution_count": 17,
   "metadata": {},
   "outputs": [],
   "source": [
    "def yelp_call_reviews(lists):\n",
    "    for ID in lists:\n",
    "        url = 'https://api.yelp.com/v3/businesses/{}/reviews'.format(ID)\n",
    "    # your code to make the yelp call\n",
    "    response = requests.get(url, headers=headers)\n",
    "    data = response.json()\n",
    "    return data"
   ]
  },
  {
   "cell_type": "code",
   "execution_count": 20,
   "metadata": {},
   "outputs": [
    {
     "data": {
      "text/plain": [
       "{'reviews': [{'id': '65UsNFbTkqKPT9ezUI3PmA',\n",
       "   'url': 'https://www.yelp.com/biz/dharma-yoga-center-new-york-2?adjust_creative=0RHbihxg1H8-FtXWdWRtfQ&hrid=65UsNFbTkqKPT9ezUI3PmA&utm_campaign=yelp_api_v3&utm_medium=api_v3_business_reviews&utm_source=0RHbihxg1H8-FtXWdWRtfQ',\n",
       "   'text': 'Hatha-Raja yoga at its best. Clean and spacious, this beautiful studio reminded me of a temple. I discovered this studio years ago when one of my kundalini...',\n",
       "   'rating': 5,\n",
       "   'time_created': '2020-02-02 05:50:17',\n",
       "   'user': {'id': 'fd1HH94cxSMd7kQowYcP3A',\n",
       "    'profile_url': 'https://www.yelp.com/user_details?userid=fd1HH94cxSMd7kQowYcP3A',\n",
       "    'image_url': 'https://s3-media3.fl.yelpcdn.com/photo/MkVKGXpKx6DygtLxn0w7bA/o.jpg',\n",
       "    'name': 'Cynthia Z.'}},\n",
       "  {'id': '61woNfU1OtVLfDilARHYVg',\n",
       "   'url': 'https://www.yelp.com/biz/dharma-yoga-center-new-york-2?adjust_creative=0RHbihxg1H8-FtXWdWRtfQ&hrid=61woNfU1OtVLfDilARHYVg&utm_campaign=yelp_api_v3&utm_medium=api_v3_business_reviews&utm_source=0RHbihxg1H8-FtXWdWRtfQ',\n",
       "   'text': \"I've never been to the studio but have taken various Zoom classes from them.  I mostly liked them but they are definitely different from classes elsewhere....\",\n",
       "   'rating': 4,\n",
       "   'time_created': '2020-07-03 11:27:23',\n",
       "   'user': {'id': 'L3OG8tGy2uQWctw2tLrIxQ',\n",
       "    'profile_url': 'https://www.yelp.com/user_details?userid=L3OG8tGy2uQWctw2tLrIxQ',\n",
       "    'image_url': 'https://s3-media2.fl.yelpcdn.com/photo/R5aNHygB62ZLT35G1zj7TA/o.jpg',\n",
       "    'name': 'Sallie D.'}},\n",
       "  {'id': 'taw13uxFRKUJcBdLkiEzng',\n",
       "   'url': 'https://www.yelp.com/biz/dharma-yoga-center-new-york-2?adjust_creative=0RHbihxg1H8-FtXWdWRtfQ&hrid=taw13uxFRKUJcBdLkiEzng&utm_campaign=yelp_api_v3&utm_medium=api_v3_business_reviews&utm_source=0RHbihxg1H8-FtXWdWRtfQ',\n",
       "   'text': \"I'm a complete n00b at yoga and only have experience from here so I have nothing to compare this facility and instructors to.\\n\\nWhen this place was on 23rd...\",\n",
       "   'rating': 3,\n",
       "   'time_created': '2019-11-26 19:41:03',\n",
       "   'user': {'id': 'pqXcG5R8hvHDTHmYalnvyQ',\n",
       "    'profile_url': 'https://www.yelp.com/user_details?userid=pqXcG5R8hvHDTHmYalnvyQ',\n",
       "    'image_url': 'https://s3-media2.fl.yelpcdn.com/photo/wrDJIvYOgskj8J9qJqPYwQ/o.jpg',\n",
       "    'name': 'Michael A.'}}],\n",
       " 'total': 90,\n",
       " 'possible_languages': ['en']}"
      ]
     },
     "execution_count": 20,
     "metadata": {},
     "output_type": "execute_result"
    }
   ],
   "source": [
    "yelp_call_reviews(ID_list)"
   ]
  },
  {
   "cell_type": "code",
   "execution_count": null,
   "metadata": {},
   "outputs": [],
   "source": []
  },
  {
   "cell_type": "code",
   "execution_count": null,
   "metadata": {},
   "outputs": [],
   "source": []
  },
  {
   "cell_type": "code",
   "execution_count": null,
   "metadata": {},
   "outputs": [],
   "source": []
  }
 ],
 "metadata": {
  "kernelspec": {
   "display_name": "learn-env",
   "language": "python",
   "name": "learn-env"
  },
  "language_info": {
   "codemirror_mode": {
    "name": "ipython",
    "version": 3
   },
   "file_extension": ".py",
   "mimetype": "text/x-python",
   "name": "python",
   "nbconvert_exporter": "python",
   "pygments_lexer": "ipython3",
   "version": "3.8.5"
  }
 },
 "nbformat": 4,
 "nbformat_minor": 4
}
